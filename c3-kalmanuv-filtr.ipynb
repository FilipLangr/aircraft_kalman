{
 "cells": [
  {
   "cell_type": "code",
   "execution_count": 1,
   "metadata": {},
   "outputs": [],
   "source": [
    "import numpy as np\n",
    "import matplotlib.pylab as plt\n",
    "from mpl_toolkits.mplot3d import Axes3D\n",
    "import sys\n",
    "from kf.kf import KF\n",
    "from kf.trajectory3D import trajectory3D\n",
    "np.set_printoptions(precision=2)"
   ]
  },
  {
   "cell_type": "code",
   "execution_count": 2,
   "metadata": {},
   "outputs": [
    {
     "name": "stdout",
     "output_type": "stream",
     "text": [
      "Using matplotlib backend: TkAgg\n"
     ]
    }
   ],
   "source": [
    "%matplotlib"
   ]
  },
  {
   "cell_type": "markdown",
   "metadata": {},
   "source": [
    "**Function for initialization Kalman filter for estimating position and velocity in 3D.**"
   ]
  },
  {
   "cell_type": "code",
   "execution_count": 3,
   "metadata": {},
   "outputs": [],
   "source": [
    "def init_kalman(delta_time, q, r):\n",
    "    dt = delta_time\n",
    "    A = np.array([\n",
    "        [1, 0, 0, dt, 0, 0],\n",
    "        [0, 1, 0, 0, dt, 0],\n",
    "        [0, 0, 1, 0, 0, dt],\n",
    "        [0, 0, 0, 1, 0, 0],\n",
    "        [0, 0, 0, 0, 1, 0],\n",
    "        [0, 0, 0, 0, 0, 1]\n",
    "    ])\n",
    "    B = None\n",
    "    H = np.array([\n",
    "        [1, 0, 0, 0, 0, 0],\n",
    "        [0, 1, 0, 0, 0, 0],\n",
    "        [0, 0, 1, 0, 0, 0]\n",
    "    ])\n",
    "    R = r**2 * np.eye(3)\n",
    "    Q = q * np.diag([dt, dt, dt, dt, dt, dt])\n",
    "    kf = KF(A=A, B=B, H=H, R=R, Q=Q)\n",
    "    return kf"
   ]
  },
  {
   "cell_type": "markdown",
   "metadata": {},
   "source": [
    "**Generate 3D trajectory, initialize Kalman filter and perform predictions and correcting updates. **"
   ]
  },
  {
   "cell_type": "code",
   "execution_count": 4,
   "metadata": {},
   "outputs": [],
   "source": [
    "code = 2605\n",
    "dt = 0.3 # Delta time.\n",
    "q = 2. # Variance multiplier of x data.\n",
    "r = .5 # Variance multiplier of y measurements.\n",
    "ndat = 100 # Number of data points.\n",
    "traj = trajectory3D(code, ndat=ndat, delta_time=dt, q=q, r=r)\n",
    "kf = init_kalman(delta_time=dt, q=q, r=r)\n",
    "for yt in traj.Y.T:\n",
    "    kf.predict()\n",
    "    kf.update(yt)\n",
    "    kf.log()\n",
    "\n",
    "log_x = np.array(kf.log_x).T"
   ]
  },
  {
   "cell_type": "markdown",
   "metadata": {},
   "source": [
    "**Plot real position (black), estimated position (orange) and noisy measurements (blue crosses) in 3D**"
   ]
  },
  {
   "cell_type": "code",
   "execution_count": 5,
   "metadata": {},
   "outputs": [],
   "source": [
    "fig = plt.figure(figsize=(10,10))\n",
    "ax = fig.add_subplot(111, projection='3d')\n",
    "ax.plot(traj.Y[0, :], traj.Y[1, :], traj.Y[2, :], '+')\n",
    "ax.plot(log_x[0, :], log_x[1, :], log_x[2, :])\n",
    "ax.plot(traj.X[0, :], traj.X[1, :], traj.X[2, :], c='black')\n",
    "plt.show()"
   ]
  },
  {
   "cell_type": "markdown",
   "metadata": {},
   "source": [
    "**Plot estimated (lines) and real (dashed) velocities separately for axes x (red), y )green), z (blue).**"
   ]
  },
  {
   "cell_type": "code",
   "execution_count": 6,
   "metadata": {},
   "outputs": [],
   "source": [
    "plt.figure(figsize=(15, 8))\n",
    "plt.plot(log_x[3, :], c='red')\n",
    "plt.plot(log_x[4, :], c='green')\n",
    "plt.plot(log_x[5, :], c='blue')\n",
    "plt.plot(traj.X[3, :], c='red', dashes=[2,2])\n",
    "plt.plot(traj.X[4, :], c='green', dashes=[2,2])\n",
    "plt.plot(traj.X[5, :], c='blue', dashes=[2,2])\n",
    "plt.ylabel(\"velocity\")\n",
    "plt.axis('equal')\n",
    "plt.show()"
   ]
  },
  {
   "cell_type": "code",
   "execution_count": null,
   "metadata": {},
   "outputs": [],
   "source": []
  }
 ],
 "metadata": {
  "kernelspec": {
   "display_name": "Python 3",
   "language": "python",
   "name": "python3"
  },
  "language_info": {
   "codemirror_mode": {
    "name": "ipython",
    "version": 3
   },
   "file_extension": ".py",
   "mimetype": "text/x-python",
   "name": "python",
   "nbconvert_exporter": "python",
   "pygments_lexer": "ipython3",
   "version": "3.5.2"
  }
 },
 "nbformat": 4,
 "nbformat_minor": 2
}
